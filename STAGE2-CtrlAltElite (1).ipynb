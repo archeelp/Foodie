{
 "cells": [
  {
   "cell_type": "code",
   "execution_count": 1,
   "metadata": {},
   "outputs": [],
   "source": [
    "import sys\n",
    "import json\n",
    "import io\n",
    "import numpy as np\n",
    "import sklearn\n",
    "import pandas as pd\n",
    "from sklearn import metrics\n",
    "from sklearn.feature_extraction.text import CountVectorizer\n",
    "from sklearn.naive_bayes import MultinomialNB\n",
    "from sklearn.linear_model import SGDClassifier\n",
    "from sklearn.ensemble import RandomForestClassifier\n",
    "from sklearn.metrics import classification_report\n",
    "import matplotlib.pyplot as plt"
   ]
  },
  {
   "cell_type": "code",
   "execution_count": 5,
   "metadata": {},
   "outputs": [],
   "source": [
    "df=pd.read_csv('../train.csv')\n"
   ]
  },
  {
   "cell_type": "code",
   "execution_count": 8,
   "metadata": {},
   "outputs": [
    {
     "data": {
      "text/plain": [
       "<matplotlib.axes._subplots.AxesSubplot at 0x7feea49fff28>"
      ]
     },
     "execution_count": 8,
     "metadata": {},
     "output_type": "execute_result"
    },
    {
     "data": {
      "image/png": "[encoded data removed]",
      "text/plain": [
       "<Figure size 432x288 with 1 Axes>"
      ]
     },
     "metadata": {},
     "output_type": "display_data"
    }
   ],
   "source": [
    "plt.style.use('ggplot')\n",
    "train_data['category'].value_counts().plot(kind='bar')"
   ]
  },
  {
   "cell_type": "code",
   "execution_count": 16,
   "metadata": {},
   "outputs": [
    {
     "data": {
      "text/plain": [
       "(745, 3)"
      ]
     },
     "execution_count": 16,
     "metadata": {},
     "output_type": "execute_result"
    }
   ],
   "source": [
    "df.shape"
   ]
  },
  {
   "cell_type": "code",
   "execution_count": 32,
   "metadata": {},
   "outputs": [],
   "source": [
    "import nltk\n",
    "#a = set()\n",
    "l = list()\n",
    "for i in range(745):\n",
    "    a = set()\n",
    "    for i in df['text'][i][df['text'][i].index('[')+1:df['text'][i].index(']')].lower().split(','):\n",
    "        i = i.replace(\",\",\"\")\n",
    "        i = i.replace(\"\\n\",\"\")\n",
    "        i = i.replace(\"\\r\",\"\")\n",
    "        i = i.replace(\"\\\"\",\"\")\n",
    "        i = i.replace(\"\\\\\",\"\")\n",
    "        i = i.replace(\"\\t\",\"\")\n",
    "        i = i.replace(\"(\",\"\")\n",
    "        i = i.replace(\")\",\"\")\n",
    "        arr = ['oz','teaspoons','teaspoon', 'cup','cups','ounces','coarse','tablespoons','tablespoon','preserves','preserves','lb','boneless','skinless','ml','bottles','cubes','assorted','string','pieces','package','packages','slices','cans','can','food','ripe','free','medium','roll','chunks','bags','bag','inches','bottle','bottles','box','size']\n",
    "        tagged_sentence = nltk.tag.pos_tag(i.split())\n",
    "        edited_sentence = [word for word,tag in tagged_sentence if tag == 'NN' or tag == 'NNS' or tag == 'NNP' or tag=='NNPS']\n",
    "        for words in edited_sentence:\n",
    "            if words in arr:\n",
    "                edited_sentence.remove(words)\n",
    "            '''elif \"™\" or '®' in words:\n",
    "                #print(words)\n",
    "                edited_sentence.remove(words)'''\n",
    "        for word in edited_sentence:\n",
    "            a.add(word)\n",
    "    l.append(a)\n",
    "df['ingredients']=l"
   ]
  },
  {
   "cell_type": "code",
   "execution_count": 82,
   "metadata": {},
   "outputs": [],
   "source": [
    "train_data = df[0:720]\n",
    "test_data = df[720:745]"
   ]
  },
  {
   "cell_type": "code",
   "execution_count": 83,
   "metadata": {},
   "outputs": [
    {
     "name": "stderr",
     "output_type": "stream",
     "text": [
      "/home/parth/miniconda3/envs/untitled/lib/python3.6/site-packages/ipykernel_launcher.py:2: SettingWithCopyWarning: \n",
      "A value is trying to be set on a copy of a slice from a DataFrame.\n",
      "Try using .loc[row_indexer,col_indexer] = value instead\n",
      "\n",
      "See the caveats in the documentation: http://pandas.pydata.org/pandas-docs/stable/indexing.html#indexing-view-versus-copy\n",
      "  \n",
      "/home/parth/miniconda3/envs/untitled/lib/python3.6/site-packages/ipykernel_launcher.py:3: SettingWithCopyWarning: \n",
      "A value is trying to be set on a copy of a slice from a DataFrame.\n",
      "Try using .loc[row_indexer,col_indexer] = value instead\n",
      "\n",
      "See the caveats in the documentation: http://pandas.pydata.org/pandas-docs/stable/indexing.html#indexing-view-versus-copy\n",
      "  This is separate from the ipykernel package so we can avoid doing imports until\n"
     ]
    },
    {
     "data": {
      "text/html": [
       "<div>\n",
       "<table border=\"1\" class=\"dataframe\">\n",
       "  <thead>\n",
       "    <tr style=\"text-align: right;\">\n",
       "      <th></th>\n",
       "      <th>Id</th>\n",
       "      <th>category</th>\n",
       "      <th>text</th>\n",
       "      <th>ingredients</th>\n",
       "      <th>concat_ingredients</th>\n",
       "    </tr>\n",
       "  </thead>\n",
       "  <tbody>\n",
       "    <tr>\n",
       "      <th>0</th>\n",
       "      <td>1</td>\n",
       "      <td>snack</td>\n",
       "      <td>\"RecipeName\": \" Reese's™ Peanut Butter Layer B...</td>\n",
       "      <td>{semisweet, oil, chunk, package, butter, choco...</td>\n",
       "      <td>semisweet;oil;chunk;package;butter;chocolate;e...</td>\n",
       "    </tr>\n",
       "    <tr>\n",
       "      <th>1</th>\n",
       "      <td>2</td>\n",
       "      <td>dessert</td>\n",
       "      <td>\"RecipeName\": \"\"\"\"Just Bugging You\" Cupcake Co...</td>\n",
       "      <td>{oil, cake, moist™, candies, eggs, ice-cream, ...</td>\n",
       "      <td>oil;cake;moist™;candies;eggs;ice-cream;cookies...</td>\n",
       "    </tr>\n",
       "    <tr>\n",
       "      <th>2</th>\n",
       "      <td>3</td>\n",
       "      <td>dessert</td>\n",
       "      <td>\"RecipeName\": \"\"\"Easy Fruit Crisp \"Dump\" Desse...</td>\n",
       "      <td>{cake, moist™, butter, filling, cherry, pineap...</td>\n",
       "      <td>cake;moist™;butter;filling;cherry;pineapple;cr...</td>\n",
       "    </tr>\n",
       "    <tr>\n",
       "      <th>3</th>\n",
       "      <td>4</td>\n",
       "      <td>snack</td>\n",
       "      <td>\"RecipeName\": \"3-Ingredient Crunchy Snack Mix\"...</td>\n",
       "      <td>{butter-flavor, creme, chex™, cereal, wheat, j...</td>\n",
       "      <td>butter-flavor;creme;chex™;cereal;wheat;jar;pop...</td>\n",
       "    </tr>\n",
       "    <tr>\n",
       "      <th>4</th>\n",
       "      <td>5</td>\n",
       "      <td>condiment</td>\n",
       "      <td>\"RecipeName\": \"5-Minute Poppy Seed Dressing\",\\...</td>\n",
       "      <td>{dressing, mayonnaise, sugar, vinegar, salad, ...</td>\n",
       "      <td>dressing;mayonnaise;sugar;vinegar;salad;seed</td>\n",
       "    </tr>\n",
       "  </tbody>\n",
       "</table>\n",
       "</div>"
      ],
      "text/plain": [
       "   Id   category                                               text  \\\n",
       "0   1      snack  \"RecipeName\": \" Reese's™ Peanut Butter Layer B...   \n",
       "1   2    dessert  \"RecipeName\": \"\"\"\"Just Bugging You\" Cupcake Co...   \n",
       "2   3    dessert  \"RecipeName\": \"\"\"Easy Fruit Crisp \"Dump\" Desse...   \n",
       "3   4      snack  \"RecipeName\": \"3-Ingredient Crunchy Snack Mix\"...   \n",
       "4   5  condiment  \"RecipeName\": \"5-Minute Poppy Seed Dressing\",\\...   \n",
       "\n",
       "                                         ingredients  \\\n",
       "0  {semisweet, oil, chunk, package, butter, choco...   \n",
       "1  {oil, cake, moist™, candies, eggs, ice-cream, ...   \n",
       "2  {cake, moist™, butter, filling, cherry, pineap...   \n",
       "3  {butter-flavor, creme, chex™, cereal, wheat, j...   \n",
       "4  {dressing, mayonnaise, sugar, vinegar, salad, ...   \n",
       "\n",
       "                                  concat_ingredients  \n",
       "0  semisweet;oil;chunk;package;butter;chocolate;e...  \n",
       "1  oil;cake;moist™;candies;eggs;ice-cream;cookies...  \n",
       "2  cake;moist™;butter;filling;cherry;pineapple;cr...  \n",
       "3  butter-flavor;creme;chex™;cereal;wheat;jar;pop...  \n",
       "4       dressing;mayonnaise;sugar;vinegar;salad;seed  "
      ]
     },
     "execution_count": 83,
     "metadata": {},
     "output_type": "execute_result"
    }
   ],
   "source": [
    "cv = CountVectorizer()\n",
    "train_data['concat_ingredients'] = train_data['ingredients'].map(';'.join)\n",
    "test_data['concat_ingredients'] = test_data['ingredients'].map(';'.join)\n",
    "train_data.head()"
   ]
  },
  {
   "cell_type": "code",
   "execution_count": 102,
   "metadata": {},
   "outputs": [],
   "source": [
    "df2=pd.read_csv('../validation.csv')\n",
    "import nltk\n",
    "#a = set()\n",
    "l = list()\n",
    "for i in range(255):\n",
    "    a = set()\n",
    "    for i in df2['text'][i][df2['text'][i].index('[')+1:df2['text'][i].index(']')].lower().split(','):\n",
    "        i = i.replace(\",\",\"\")\n",
    "        i = i.replace(\"\\n\",\"\")\n",
    "        i = i.replace(\"\\r\",\"\")\n",
    "        i = i.replace(\"\\\"\",\"\")\n",
    "        i = i.replace(\"\\\\\",\"\")\n",
    "        i = i.replace(\"\\t\",\"\")\n",
    "        i = i.replace(\"(\",\"\")\n",
    "        i = i.replace(\")\",\"\")\n",
    "        arr = ['oz','teaspoons','teaspoon', 'cup','cups','ounces','coarse','tablespoons','tablespoon','preserves','preserves','lb','boneless','skinless','ml','bottles','cubes','assorted','string','pieces','package','packages','slices','cans','can','food','ripe','free','medium','roll','chunks','bags','bag','inches','bottle','bottles','box','size']\n",
    "        tagged_sentence = nltk.tag.pos_tag(i.split())\n",
    "        edited_sentence = [word for word,tag in tagged_sentence if tag == 'NN' or tag == 'NNS' or tag == 'NNP' or tag=='NNPS']\n",
    "        for words in edited_sentence:\n",
    "            if words in arr:\n",
    "                edited_sentence.remove(words)\n",
    "            '''elif \"™\" or '®' in words:\n",
    "                #print(words)\n",
    "                edited_sentence.remove(words)'''\n",
    "        for word in edited_sentence:\n",
    "            a.add(word)\n",
    "    l.append(a)\n",
    "df2['ingredients']=l"
   ]
  },
  {
   "cell_type": "code",
   "execution_count": 104,
   "metadata": {},
   "outputs": [
    {
     "data": {
      "text/html": [
       "<div>\n",
       "<table border=\"1\" class=\"dataframe\">\n",
       "  <thead>\n",
       "    <tr style=\"text-align: right;\">\n",
       "      <th></th>\n",
       "      <th>Id</th>\n",
       "      <th>text</th>\n",
       "      <th>ingredients</th>\n",
       "      <th>concat_ingredients</th>\n",
       "    </tr>\n",
       "  </thead>\n",
       "  <tbody>\n",
       "    <tr>\n",
       "      <th>0</th>\n",
       "      <td>746</td>\n",
       "      <td>\"RecipeName\": \"\"\"Cinnamon \"Fried\" Ice Cream \"\"...</td>\n",
       "      <td>{vanilla, crunch™, cream, scoops, ice, cereal}</td>\n",
       "      <td>vanilla;crunch™;cream;scoops;ice;cereal</td>\n",
       "    </tr>\n",
       "    <tr>\n",
       "      <th>1</th>\n",
       "      <td>747</td>\n",
       "      <td>\"RecipeName\": \"“Devilicious” Eggs\",\\r\\n\"Ingred...</td>\n",
       "      <td>{herbs, bell, pepper, paprika, mayonnaise, oli...</td>\n",
       "      <td>herbs;bell;pepper;paprika;mayonnaise;olives;dr...</td>\n",
       "    </tr>\n",
       "    <tr>\n",
       "      <th>2</th>\n",
       "      <td>748</td>\n",
       "      <td>\"RecipeName\": \"All Shook Up Chex Mix\",\\r\\n\"Ing...</td>\n",
       "      <td>{crisply, butter, bacon, honey, chips, oz, che...</td>\n",
       "      <td>crisply;butter;bacon;honey;chips;oz;chex™;marg...</td>\n",
       "    </tr>\n",
       "    <tr>\n",
       "      <th>3</th>\n",
       "      <td>749</td>\n",
       "      <td>\"RecipeName\": \"Annie’s™ Yogurt Dirt Cups \",\\r\\...</td>\n",
       "      <td>{containers, grabbits™, yogurt, chocolate, mil...</td>\n",
       "      <td>containers;grabbits™;yogurt;chocolate;milk;fru...</td>\n",
       "    </tr>\n",
       "    <tr>\n",
       "      <th>4</th>\n",
       "      <td>750</td>\n",
       "      <td>\"RecipeName\": \"Antipasto Kabobs\",\\r\\n\"Ingredie...</td>\n",
       "      <td>{oil, olives, cut, garlic, mozzarella, sugar, ...</td>\n",
       "      <td>oil;olives;cut;garlic;mozzarella;sugar;tomatoe...</td>\n",
       "    </tr>\n",
       "  </tbody>\n",
       "</table>\n",
       "</div>"
      ],
      "text/plain": [
       "    Id                                               text  \\\n",
       "0  746  \"RecipeName\": \"\"\"Cinnamon \"Fried\" Ice Cream \"\"...   \n",
       "1  747  \"RecipeName\": \"“Devilicious” Eggs\",\\r\\n\"Ingred...   \n",
       "2  748  \"RecipeName\": \"All Shook Up Chex Mix\",\\r\\n\"Ing...   \n",
       "3  749  \"RecipeName\": \"Annie’s™ Yogurt Dirt Cups \",\\r\\...   \n",
       "4  750  \"RecipeName\": \"Antipasto Kabobs\",\\r\\n\"Ingredie...   \n",
       "\n",
       "                                         ingredients  \\\n",
       "0     {vanilla, crunch™, cream, scoops, ice, cereal}   \n",
       "1  {herbs, bell, pepper, paprika, mayonnaise, oli...   \n",
       "2  {crisply, butter, bacon, honey, chips, oz, che...   \n",
       "3  {containers, grabbits™, yogurt, chocolate, mil...   \n",
       "4  {oil, olives, cut, garlic, mozzarella, sugar, ...   \n",
       "\n",
       "                                  concat_ingredients  \n",
       "0            vanilla;crunch™;cream;scoops;ice;cereal  \n",
       "1  herbs;bell;pepper;paprika;mayonnaise;olives;dr...  \n",
       "2  crisply;butter;bacon;honey;chips;oz;chex™;marg...  \n",
       "3  containers;grabbits™;yogurt;chocolate;milk;fru...  \n",
       "4  oil;olives;cut;garlic;mozzarella;sugar;tomatoe...  "
      ]
     },
     "execution_count": 104,
     "metadata": {},
     "output_type": "execute_result"
    }
   ],
   "source": [
    "df2['concat_ingredients'] = df2['ingredients'].map(';'.join)\n",
    "df2.head()"
   ]
  },
  {
   "cell_type": "code",
   "execution_count": 105,
   "metadata": {},
   "outputs": [],
   "source": [
    "X = cv.fit_transform(train_data['concat_ingredients'].values)\n",
    "X_test = cv.transform(df2['concat_ingredients'].values)"
   ]
  },
  {
   "cell_type": "code",
   "execution_count": 106,
   "metadata": {},
   "outputs": [
    {
     "data": {
      "text/plain": [
       "0        snack\n",
       "1      dessert\n",
       "2      dessert\n",
       "3        snack\n",
       "4    condiment\n",
       "Name: category, dtype: object"
      ]
     },
     "execution_count": 106,
     "metadata": {},
     "output_type": "execute_result"
    }
   ],
   "source": [
    "id_test = df2['Id']\n",
    "Y = train_data['category']\n",
    "Y.head()"
   ]
  },
  {
   "cell_type": "code",
   "execution_count": 86,
   "metadata": {},
   "outputs": [],
   "source": [
    "NaiveModel = MultinomialNB().fit(X,Y)"
   ]
  },
  {
   "cell_type": "code",
   "execution_count": 87,
   "metadata": {},
   "outputs": [],
   "source": [
    "Model1 = RandomForestClassifier(max_depth=40, n_estimators=20).fit(X,Y)"
   ]
  },
  {
   "cell_type": "code",
   "execution_count": 90,
   "metadata": {
    "scrolled": true
   },
   "outputs": [],
   "source": [
    "Model2 = SGDClassifier(loss='modified_huber', penalty='l2' , alpha=0.0001 , max_iter=100, tol=1e-3, random_state=65).fit(X,Y)"
   ]
  },
  {
   "cell_type": "code",
   "execution_count": 91,
   "metadata": {},
   "outputs": [
    {
     "name": "stdout",
     "output_type": "stream",
     "text": [
      "predicting\n"
     ]
    }
   ],
   "source": [
    "print(\"predicting\")\n",
    "Naive_PredictedY1s = NaiveModel.predict(X)\n",
    "Random_PredictedY1s = Model1.predict(X)\n",
    "SGD_PredictedY1s = Model2.predict(X)"
   ]
  },
  {
   "cell_type": "code",
   "execution_count": 92,
   "metadata": {},
   "outputs": [
    {
     "name": "stdout",
     "output_type": "stream",
     "text": [
      "Naive Bayes Accurracy : 0.888889 \n",
      "Random Forest Accurracy : 0.997222 \n",
      "SGD classifier Accurracy : 0.987500 \n"
     ]
    }
   ],
   "source": [
    "print(\"Naive Bayes Accurracy : %f \" % np.mean ( Naive_PredictedY1s == Y))\n",
    "print(\"Random Forest Accurracy : %f \" % np.mean ( Random_PredictedY1s == Y))\n",
    "print(\"SGD classifier Accurracy : %f \" % np.mean ( SGD_PredictedY1s == Y))"
   ]
  },
  {
   "cell_type": "code",
   "execution_count": 93,
   "metadata": {},
   "outputs": [
    {
     "name": "stdout",
     "output_type": "stream",
     "text": [
      "             precision    recall  f1-score   support\n",
      "\n",
      "  appetizer       0.92      0.86      0.89       152\n",
      "   beverage       0.93      0.90      0.91       143\n",
      "  condiment       0.78      0.91      0.84       127\n",
      "    dessert       0.95      0.85      0.90       162\n",
      "      snack       0.87      0.95      0.91       136\n",
      "\n",
      "avg / total       0.89      0.89      0.89       720\n",
      "\n"
     ]
    }
   ],
   "source": [
    "print(classification_report(Naive_PredictedY1s, Y))"
   ]
  },
  {
   "cell_type": "code",
   "execution_count": 94,
   "metadata": {},
   "outputs": [
    {
     "name": "stdout",
     "output_type": "stream",
     "text": [
      "             precision    recall  f1-score   support\n",
      "\n",
      "  appetizer       1.00      0.99      1.00       143\n",
      "   beverage       1.00      1.00      1.00       137\n",
      "  condiment       0.99      0.99      0.99       148\n",
      "    dessert       0.99      1.00      1.00       143\n",
      "      snack       1.00      1.00      1.00       149\n",
      "\n",
      "avg / total       1.00      1.00      1.00       720\n",
      "\n"
     ]
    }
   ],
   "source": [
    "print(classification_report(Random_PredictedY1s, Y))"
   ]
  },
  {
   "cell_type": "code",
   "execution_count": 95,
   "metadata": {},
   "outputs": [
    {
     "name": "stdout",
     "output_type": "stream",
     "text": [
      "             precision    recall  f1-score   support\n",
      "\n",
      "  appetizer       1.00      1.00      1.00       142\n",
      "   beverage       1.00      0.99      1.00       138\n",
      "  condiment       0.97      0.98      0.98       147\n",
      "    dessert       0.99      0.99      0.99       144\n",
      "      snack       0.98      0.98      0.98       149\n",
      "\n",
      "avg / total       0.99      0.99      0.99       720\n",
      "\n"
     ]
    }
   ],
   "source": [
    "print(classification_report(SGD_PredictedY1s, Y))"
   ]
  },
  {
   "cell_type": "code",
   "execution_count": 107,
   "metadata": {},
   "outputs": [],
   "source": [
    "Predicted_Cuisines = Model1.predict(X_test)"
   ]
  },
  {
   "cell_type": "code",
   "execution_count": 110,
   "metadata": {},
   "outputs": [
    {
     "data": {
      "text/plain": [
       "array(['beverage', 'appetizer', 'snack', 'beverage', 'condiment', 'snack',\n",
       "       'appetizer', 'appetizer', 'appetizer', 'appetizer', 'beverage',\n",
       "       'condiment', 'dessert', 'appetizer', 'beverage', 'condiment',\n",
       "       'beverage', 'condiment', 'dessert', 'beverage', 'condiment',\n",
       "       'beverage', 'condiment', 'condiment', 'appetizer', 'dessert',\n",
       "       'appetizer', 'beverage', 'appetizer', 'dessert', 'beverage',\n",
       "       'appetizer', 'snack', 'dessert', 'snack', 'condiment', 'condiment',\n",
       "       'condiment', 'dessert', 'appetizer', 'dessert', 'beverage',\n",
       "       'condiment', 'appetizer', 'beverage', 'snack', 'snack', 'beverage',\n",
       "       'appetizer', 'appetizer', 'condiment', 'beverage', 'condiment',\n",
       "       'snack', 'snack', 'snack', 'snack', 'dessert', 'dessert',\n",
       "       'dessert', 'snack', 'beverage', 'dessert', 'snack', 'condiment',\n",
       "       'dessert', 'condiment', 'beverage', 'condiment', 'beverage',\n",
       "       'condiment', 'condiment', 'dessert', 'beverage', 'condiment',\n",
       "       'condiment', 'beverage', 'condiment', 'condiment', 'beverage',\n",
       "       'appetizer', 'appetizer', 'dessert', 'appetizer', 'appetizer',\n",
       "       'appetizer', 'beverage', 'snack', 'beverage', 'beverage',\n",
       "       'appetizer', 'beverage', 'condiment', 'snack', 'beverage',\n",
       "       'appetizer', 'condiment', 'appetizer', 'dessert', 'condiment',\n",
       "       'dessert', 'condiment', 'condiment', 'beverage', 'appetizer',\n",
       "       'condiment', 'appetizer', 'dessert', 'condiment', 'condiment',\n",
       "       'snack', 'snack', 'snack', 'snack', 'condiment', 'condiment',\n",
       "       'snack', 'snack', 'snack', 'condiment', 'appetizer', 'snack',\n",
       "       'beverage', 'snack', 'appetizer', 'dessert', 'dessert', 'dessert',\n",
       "       'snack', 'condiment', 'appetizer', 'snack', 'condiment',\n",
       "       'beverage', 'dessert', 'condiment', 'beverage', 'beverage',\n",
       "       'dessert', 'appetizer', 'beverage', 'condiment', 'beverage',\n",
       "       'dessert', 'condiment', 'condiment', 'appetizer', 'appetizer',\n",
       "       'appetizer', 'condiment', 'snack', 'condiment', 'appetizer',\n",
       "       'snack', 'condiment', 'beverage', 'dessert', 'beverage',\n",
       "       'appetizer', 'beverage', 'dessert', 'beverage', 'condiment',\n",
       "       'dessert', 'appetizer', 'dessert', 'dessert', 'dessert',\n",
       "       'beverage', 'condiment', 'dessert', 'condiment', 'dessert',\n",
       "       'dessert', 'appetizer', 'appetizer', 'beverage', 'condiment',\n",
       "       'beverage', 'condiment', 'appetizer', 'condiment', 'dessert',\n",
       "       'beverage', 'condiment', 'dessert', 'dessert', 'condiment',\n",
       "       'condiment', 'condiment', 'appetizer', 'snack', 'condiment',\n",
       "       'appetizer', 'appetizer', 'condiment', 'condiment', 'beverage',\n",
       "       'appetizer', 'appetizer', 'dessert', 'appetizer', 'appetizer',\n",
       "       'beverage', 'condiment', 'condiment', 'beverage', 'dessert',\n",
       "       'beverage', 'snack', 'condiment', 'beverage', 'appetizer',\n",
       "       'dessert', 'beverage', 'beverage', 'beverage', 'dessert', 'snack',\n",
       "       'dessert', 'condiment', 'beverage', 'beverage', 'beverage',\n",
       "       'condiment', 'dessert', 'appetizer', 'appetizer', 'dessert',\n",
       "       'snack', 'snack', 'condiment', 'beverage', 'condiment',\n",
       "       'condiment', 'snack', 'beverage', 'condiment', 'appetizer',\n",
       "       'condiment', 'beverage', 'beverage', 'condiment', 'beverage',\n",
       "       'appetizer', 'appetizer', 'appetizer', 'beverage', 'dessert',\n",
       "       'beverage', 'beverage', 'beverage', 'beverage', 'snack',\n",
       "       'appetizer'], dtype=object)"
      ]
     },
     "execution_count": 110,
     "metadata": {},
     "output_type": "execute_result"
    }
   ],
   "source": [
    "Predicted_Cuisines"
   ]
  },
  {
   "cell_type": "code",
   "execution_count": 111,
   "metadata": {},
   "outputs": [
    {
     "name": "stdout",
     "output_type": "stream",
     "text": [
      "255\n",
      "255\n"
     ]
    }
   ],
   "source": [
    "print(len(id_test))\n",
    "print(len(Predicted_Cuisines))"
   ]
  },
  {
   "cell_type": "code",
   "execution_count": 112,
   "metadata": {},
   "outputs": [],
   "source": [
    "df3 = pd.DataFrame(columns=['id','category'])"
   ]
  },
  {
   "cell_type": "code",
   "execution_count": 113,
   "metadata": {},
   "outputs": [],
   "source": [
    "df3['id'] = id_test\n",
    "df3['category'] = Predicted_Cuisines"
   ]
  },
  {
   "cell_type": "code",
   "execution_count": 114,
   "metadata": {},
   "outputs": [
    {
     "data": {
      "text/html": [
       "<div>\n",
       "<table border=\"1\" class=\"dataframe\">\n",
       "  <thead>\n",
       "    <tr style=\"text-align: right;\">\n",
       "      <th></th>\n",
       "      <th>id</th>\n",
       "      <th>category</th>\n",
       "    </tr>\n",
       "  </thead>\n",
       "  <tbody>\n",
       "    <tr>\n",
       "      <th>0</th>\n",
       "      <td>746</td>\n",
       "      <td>beverage</td>\n",
       "    </tr>\n",
       "    <tr>\n",
       "      <th>1</th>\n",
       "      <td>747</td>\n",
       "      <td>appetizer</td>\n",
       "    </tr>\n",
       "    <tr>\n",
       "      <th>2</th>\n",
       "      <td>748</td>\n",
       "      <td>snack</td>\n",
       "    </tr>\n",
       "    <tr>\n",
       "      <th>3</th>\n",
       "      <td>749</td>\n",
       "      <td>beverage</td>\n",
       "    </tr>\n",
       "    <tr>\n",
       "      <th>4</th>\n",
       "      <td>750</td>\n",
       "      <td>condiment</td>\n",
       "    </tr>\n",
       "  </tbody>\n",
       "</table>\n",
       "</div>"
      ],
      "text/plain": [
       "    id   category\n",
       "0  746   beverage\n",
       "1  747  appetizer\n",
       "2  748      snack\n",
       "3  749   beverage\n",
       "4  750  condiment"
      ]
     },
     "execution_count": 114,
     "metadata": {},
     "output_type": "execute_result"
    }
   ],
   "source": [
    "df3.head()"
   ]
  },
  {
   "cell_type": "code",
   "execution_count": 115,
   "metadata": {},
   "outputs": [],
   "source": [
    "df3.to_csv('STAGE2-CtrlAltElite.csv', index=False)"
   ]
  },
  {
   "cell_type": "code",
   "execution_count": 109,
   "metadata": {},
   "outputs": [
    {
     "ename": "KeyError",
     "evalue": "746",
     "output_type": "error",
     "traceback": [
      "\u001b[0;31m---------------------------------------------------------------------------\u001b[0m",
      "\u001b[0;31mKeyError\u001b[0m                                  Traceback (most recent call last)",
      "\u001b[0;32m<ipython-input-109-93497b19fceb>\u001b[0m in \u001b[0;36m<module>\u001b[0;34m\u001b[0m\n\u001b[1;32m      1\u001b[0m \u001b[0mcount\u001b[0m \u001b[0;34m=\u001b[0m \u001b[0;36m0\u001b[0m\u001b[0;34m\u001b[0m\u001b[0;34m\u001b[0m\u001b[0m\n\u001b[1;32m      2\u001b[0m \u001b[0;32mfor\u001b[0m \u001b[0mi\u001b[0m \u001b[0;32min\u001b[0m \u001b[0mrange\u001b[0m\u001b[0;34m(\u001b[0m\u001b[0;36m255\u001b[0m\u001b[0;34m)\u001b[0m\u001b[0;34m:\u001b[0m\u001b[0;34m\u001b[0m\u001b[0;34m\u001b[0m\u001b[0m\n\u001b[0;32m----> 3\u001b[0;31m     \u001b[0;32mif\u001b[0m \u001b[0mtest_data\u001b[0m\u001b[0;34m[\u001b[0m\u001b[0;34m'category'\u001b[0m\u001b[0;34m]\u001b[0m\u001b[0;34m[\u001b[0m\u001b[0;36m746\u001b[0m\u001b[0;34m+\u001b[0m\u001b[0mi\u001b[0m\u001b[0;34m]\u001b[0m \u001b[0;34m==\u001b[0m \u001b[0mPredicted_Cuisines\u001b[0m\u001b[0;34m[\u001b[0m\u001b[0mi\u001b[0m\u001b[0;34m]\u001b[0m\u001b[0;34m:\u001b[0m\u001b[0;34m\u001b[0m\u001b[0;34m\u001b[0m\u001b[0m\n\u001b[0m\u001b[1;32m      4\u001b[0m         \u001b[0mcount\u001b[0m \u001b[0;34m+=\u001b[0m\u001b[0;36m1\u001b[0m\u001b[0;34m\u001b[0m\u001b[0;34m\u001b[0m\u001b[0m\n\u001b[1;32m      5\u001b[0m     \u001b[0;32melse\u001b[0m\u001b[0;34m:\u001b[0m \u001b[0mprint\u001b[0m\u001b[0;34m(\u001b[0m\u001b[0;36m746\u001b[0m\u001b[0;34m+\u001b[0m\u001b[0mi\u001b[0m\u001b[0;34m,\u001b[0m\u001b[0mtest_data\u001b[0m\u001b[0;34m[\u001b[0m\u001b[0;34m'category'\u001b[0m\u001b[0;34m]\u001b[0m\u001b[0;34m[\u001b[0m\u001b[0;36m746\u001b[0m\u001b[0;34m+\u001b[0m\u001b[0mi\u001b[0m\u001b[0;34m]\u001b[0m\u001b[0;34m,\u001b[0m\u001b[0mPredicted_Cuisines\u001b[0m\u001b[0;34m[\u001b[0m\u001b[0mi\u001b[0m\u001b[0;34m]\u001b[0m\u001b[0;34m)\u001b[0m\u001b[0;34m\u001b[0m\u001b[0;34m\u001b[0m\u001b[0m\n",
      "\u001b[0;32m~/miniconda3/envs/untitled/lib/python3.6/site-packages/pandas/core/series.py\u001b[0m in \u001b[0;36m__getitem__\u001b[0;34m(self, key)\u001b[0m\n\u001b[1;32m    555\u001b[0m     \u001b[0;32mdef\u001b[0m \u001b[0m__getitem__\u001b[0m\u001b[0;34m(\u001b[0m\u001b[0mself\u001b[0m\u001b[0;34m,\u001b[0m \u001b[0mkey\u001b[0m\u001b[0;34m)\u001b[0m\u001b[0;34m:\u001b[0m\u001b[0;34m\u001b[0m\u001b[0;34m\u001b[0m\u001b[0m\n\u001b[1;32m    556\u001b[0m         \u001b[0;32mtry\u001b[0m\u001b[0;34m:\u001b[0m\u001b[0;34m\u001b[0m\u001b[0;34m\u001b[0m\u001b[0m\n\u001b[0;32m--> 557\u001b[0;31m             \u001b[0mresult\u001b[0m \u001b[0;34m=\u001b[0m \u001b[0mself\u001b[0m\u001b[0;34m.\u001b[0m\u001b[0mindex\u001b[0m\u001b[0;34m.\u001b[0m\u001b[0mget_value\u001b[0m\u001b[0;34m(\u001b[0m\u001b[0mself\u001b[0m\u001b[0;34m,\u001b[0m \u001b[0mkey\u001b[0m\u001b[0;34m)\u001b[0m\u001b[0;34m\u001b[0m\u001b[0;34m\u001b[0m\u001b[0m\n\u001b[0m\u001b[1;32m    558\u001b[0m \u001b[0;34m\u001b[0m\u001b[0m\n\u001b[1;32m    559\u001b[0m             \u001b[0;32mif\u001b[0m \u001b[0;32mnot\u001b[0m \u001b[0mnp\u001b[0m\u001b[0;34m.\u001b[0m\u001b[0misscalar\u001b[0m\u001b[0;34m(\u001b[0m\u001b[0mresult\u001b[0m\u001b[0;34m)\u001b[0m\u001b[0;34m:\u001b[0m\u001b[0;34m\u001b[0m\u001b[0;34m\u001b[0m\u001b[0m\n",
      "\u001b[0;32m~/miniconda3/envs/untitled/lib/python3.6/site-packages/pandas/core/index.py\u001b[0m in \u001b[0;36mget_value\u001b[0;34m(self, series, key)\u001b[0m\n\u001b[1;32m   1788\u001b[0m \u001b[0;34m\u001b[0m\u001b[0m\n\u001b[1;32m   1789\u001b[0m         \u001b[0;32mtry\u001b[0m\u001b[0;34m:\u001b[0m\u001b[0;34m\u001b[0m\u001b[0;34m\u001b[0m\u001b[0m\n\u001b[0;32m-> 1790\u001b[0;31m             \u001b[0;32mreturn\u001b[0m \u001b[0mself\u001b[0m\u001b[0;34m.\u001b[0m\u001b[0m_engine\u001b[0m\u001b[0;34m.\u001b[0m\u001b[0mget_value\u001b[0m\u001b[0;34m(\u001b[0m\u001b[0ms\u001b[0m\u001b[0;34m,\u001b[0m \u001b[0mk\u001b[0m\u001b[0;34m)\u001b[0m\u001b[0;34m\u001b[0m\u001b[0;34m\u001b[0m\u001b[0m\n\u001b[0m\u001b[1;32m   1791\u001b[0m         \u001b[0;32mexcept\u001b[0m \u001b[0mKeyError\u001b[0m \u001b[0;32mas\u001b[0m \u001b[0me1\u001b[0m\u001b[0;34m:\u001b[0m\u001b[0;34m\u001b[0m\u001b[0;34m\u001b[0m\u001b[0m\n\u001b[1;32m   1792\u001b[0m             \u001b[0;32mif\u001b[0m \u001b[0mlen\u001b[0m\u001b[0;34m(\u001b[0m\u001b[0mself\u001b[0m\u001b[0;34m)\u001b[0m \u001b[0;34m>\u001b[0m \u001b[0;36m0\u001b[0m \u001b[0;32mand\u001b[0m \u001b[0mself\u001b[0m\u001b[0;34m.\u001b[0m\u001b[0minferred_type\u001b[0m \u001b[0;32min\u001b[0m \u001b[0;34m[\u001b[0m\u001b[0;34m'integer'\u001b[0m\u001b[0;34m,\u001b[0m\u001b[0;34m'boolean'\u001b[0m\u001b[0;34m]\u001b[0m\u001b[0;34m:\u001b[0m\u001b[0;34m\u001b[0m\u001b[0;34m\u001b[0m\u001b[0m\n",
      "\u001b[0;32mpandas/index.pyx\u001b[0m in \u001b[0;36mpandas.index.IndexEngine.get_value (pandas/index.c:3204)\u001b[0;34m()\u001b[0m\n",
      "\u001b[0;32mpandas/index.pyx\u001b[0m in \u001b[0;36mpandas.index.IndexEngine.get_value (pandas/index.c:2903)\u001b[0;34m()\u001b[0m\n",
      "\u001b[0;32mpandas/index.pyx\u001b[0m in \u001b[0;36mpandas.index.IndexEngine.get_loc (pandas/index.c:3843)\u001b[0;34m()\u001b[0m\n",
      "\u001b[0;32mpandas/hashtable.pyx\u001b[0m in \u001b[0;36mpandas.hashtable.Int64HashTable.get_item (pandas/hashtable.c:6525)\u001b[0;34m()\u001b[0m\n",
      "\u001b[0;32mpandas/hashtable.pyx\u001b[0m in \u001b[0;36mpandas.hashtable.Int64HashTable.get_item (pandas/hashtable.c:6463)\u001b[0;34m()\u001b[0m\n",
      "\u001b[0;31mKeyError\u001b[0m: 746"
     ]
    }
   ],
   "source": [
    "count = 0\n",
    "for i in range(255):\n",
    "    if test_data['category'][746+i] == Predicted_Cuisines[i]:\n",
    "        count +=1\n",
    "    else: print(746+i,test_data['category'][746+i],Predicted_Cuisines[i])\n",
    "print(count)"
   ]
  },
  {
   "cell_type": "code",
   "execution_count": null,
   "metadata": {},
   "outputs": [],
   "source": []
  }
 ],
 "metadata": {
  "kernelspec": {
   "display_name": "Python 3",
   "language": "python",
   "name": "python3"
  },
  "language_info": {
   "codemirror_mode": {
    "name": "ipython",
    "version": 3
   },
   "file_extension": ".py",
   "mimetype": "text/x-python",
   "name": "python",
   "nbconvert_exporter": "python",
   "pygments_lexer": "ipython3",
   "version": "3.6.10"
  }
 },
 "nbformat": 4,
 "nbformat_minor": 2
}
